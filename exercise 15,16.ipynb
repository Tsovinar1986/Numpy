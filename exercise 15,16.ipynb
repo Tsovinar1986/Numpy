{
 "cells": [
  {
   "cell_type": "code",
   "execution_count": 15,
   "id": "7b5ce54f",
   "metadata": {},
   "outputs": [
    {
     "name": "stdout",
     "output_type": "stream",
     "text": [
      "enter name Tina\n",
      "enter last name Babakhanyan\n",
      "enter age 35\n",
      "<bound method PeopleMyClass.show of <__main__.PeopleMyClass object at 0x7ff03000c610>>\n"
     ]
    }
   ],
   "source": [
    "class PeopleMyClass:\n",
    "    def __init__(self,firstname,lastname,age):\n",
    "        self.firstname = name\n",
    "        self.lastname = lastname\n",
    "        self.age = age\n",
    "    def show(self):\n",
    "        return f'name = {self.firstname},lastname = {self.lastname},  age= {self.age}' \n",
    "name = input('enter name ')\n",
    "lastname = input('enter last name ')\n",
    "age = int(input('enter age '))\n",
    "x = PeopleMyClass(name, lastname, age)\n",
    "print(x.show)"
   ]
  },
  {
   "cell_type": "code",
   "execution_count": 68,
   "id": "cab4a80a",
   "metadata": {},
   "outputs": [
    {
     "name": "stdout",
     "output_type": "stream",
     "text": [
      "original array:\n",
      "[[[ 0  1  2  3]\n",
      "  [ 4  5  6  7]\n",
      "  [ 8  9 10 11]\n",
      "  [12 13 14 15]]\n",
      "\n",
      " [[16 17 18 19]\n",
      "  [20 21 22 23]\n",
      "  [24 25 26 27]\n",
      "  [28 29 30 31]]\n",
      "\n",
      " [[32 33 34 35]\n",
      "  [36 37 38 39]\n",
      "  [40 41 42 43]\n",
      "  [44 45 46 47]]\n",
      "\n",
      " [[48 49 50 51]\n",
      "  [52 53 54 55]\n",
      "  [56 57 58 59]\n",
      "  [60 61 62 63]]]\n",
      "second array:\n",
      "[[ 24  28  32  36]\n",
      " [ 88  92  96 100]\n",
      " [152 156 160 164]\n",
      " [216 220 224 228]]\n",
      "third array\n",
      "[[  6  22  38  54]\n",
      " [ 70  86 102 118]\n",
      " [134 150 166 182]\n",
      " [198 214 230 246]]\n",
      "sum array\n",
      "[[ 30  50  70  90]\n",
      " [158 178 198 218]\n",
      " [286 306 326 346]\n",
      " [414 434 454 474]]\n"
     ]
    }
   ],
   "source": [
    "import numpy as np\n",
    "arr1 = np.arange(64).reshape(4,4,4)\n",
    "print('original array:')\n",
    "print(arr1)\n",
    "arr2 = arr1.sum(axis=1)\n",
    "arr3 =arr1.sum(axis=2)\n",
    "arr4 = np.add(arr2,arr3)\n",
    "print('second array:')\n",
    "print(arr2)\n",
    "print('third array')\n",
    "print(arr3)\n",
    "print('sum array')\n",
    "print(arr4)"
   ]
  },
  {
   "cell_type": "code",
   "execution_count": null,
   "id": "61a5db90",
   "metadata": {},
   "outputs": [],
   "source": []
  }
 ],
 "metadata": {
  "kernelspec": {
   "display_name": "Python 3 (ipykernel)",
   "language": "python",
   "name": "python3"
  },
  "language_info": {
   "codemirror_mode": {
    "name": "ipython",
    "version": 3
   },
   "file_extension": ".py",
   "mimetype": "text/x-python",
   "name": "python",
   "nbconvert_exporter": "python",
   "pygments_lexer": "ipython3",
   "version": "3.9.7"
  }
 },
 "nbformat": 4,
 "nbformat_minor": 5
}
