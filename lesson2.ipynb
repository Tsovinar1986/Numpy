{
 "cells": [
  {
   "cell_type": "code",
   "execution_count": 91,
   "id": "499a6deb",
   "metadata": {},
   "outputs": [
    {
     "name": "stdout",
     "output_type": "stream",
     "text": [
      "[0 1 2 3 4 5 6 7 8 9]\n"
     ]
    }
   ],
   "source": [
    "import numpy as np\n",
    "x = np.arange(10)\n",
    "print(x)"
   ]
  },
  {
   "cell_type": "code",
   "execution_count": 82,
   "id": "b34668d8",
   "metadata": {},
   "outputs": [
    {
     "name": "stdout",
     "output_type": "stream",
     "text": [
      "[[ True  True  True]\n",
      " [ True  True  True]\n",
      " [ True  True  True]]\n"
     ]
    }
   ],
   "source": [
    "arr =np.full((3, 3), True, dtype=bool)\n",
    "print(arr)"
   ]
  },
  {
   "cell_type": "code",
   "execution_count": 84,
   "id": "771ae068",
   "metadata": {},
   "outputs": [
    {
     "name": "stdout",
     "output_type": "stream",
     "text": [
      "[1 3 5 7 9]\n"
     ]
    }
   ],
   "source": [
    "arr = np.array([0, 1, 2, 3, 4, 5, 6, 7, 8, 9])\n",
    "arr1 = arr[arr % 2 == 1]\n",
    "print(arr1)"
   ]
  },
  {
   "cell_type": "code",
   "execution_count": 88,
   "id": "874a283b",
   "metadata": {},
   "outputs": [
    {
     "name": "stdout",
     "output_type": "stream",
     "text": [
      "[ 0 -1  2 -1  4 -1  6 -1  8 -1]\n"
     ]
    }
   ],
   "source": [
    "arr = np.array([0, 1, 2, 3, 4, 5, 6, 7, 8, 9])\n",
    "arr[arr % 2 == 1] = -1\n",
    "print(arr)\n",
    "   "
   ]
  },
  {
   "cell_type": "code",
   "execution_count": 75,
   "id": "4448da12",
   "metadata": {},
   "outputs": [
    {
     "name": "stdout",
     "output_type": "stream",
     "text": [
      "[1 2 3 4]\n"
     ]
    }
   ],
   "source": [
    "a = np.array([1,2,3,4,5])\n",
    "b = np.array([5,6,7,8,9])\n",
    "for i in a:\n",
    "    if i not in b:\n",
    "        c = np.delete(a,i,0)\n",
    "print(c)\n",
    "        \n",
    "       "
   ]
  },
  {
   "cell_type": "code",
   "execution_count": 102,
   "id": "5494b6be",
   "metadata": {},
   "outputs": [
    {
     "data": {
      "text/plain": [
       "array([ 6., 10.,  8.,  8.,  9.,  7.,  6.])"
      ]
     },
     "execution_count": 102,
     "metadata": {},
     "output_type": "execute_result"
    }
   ],
   "source": [
    "def max(i, j):\n",
    "   \n",
    "    if i >= j:\n",
    "        return i\n",
    "    else:\n",
    "        return j\n",
    "    \n",
    "pair_max = np.vectorize(max, otypes=[float])\n",
    "    \n",
    "a = np.array([4, 10, 8, 7, 5, 4, 6])\n",
    "b = np.array([6, 3, 4, 8, 9, 7, 1])\n",
    "pair_max(a, b)"
   ]
  },
  {
   "cell_type": "code",
   "execution_count": 110,
   "id": "7cc54d88",
   "metadata": {},
   "outputs": [
    {
     "name": "stdout",
     "output_type": "stream",
     "text": [
      "[[1 0 2]\n",
      " [4 3 5]\n",
      " [7 6 8]]\n"
     ]
    }
   ],
   "source": [
    "arr = np.arange(9).reshape(3,3)\n",
    "arr1 = arr[:, [1,0,2]]\n",
    "print(arr1)"
   ]
  },
  {
   "cell_type": "code",
   "execution_count": 159,
   "id": "cfe6fd8f",
   "metadata": {},
   "outputs": [
    {
     "name": "stdout",
     "output_type": "stream",
     "text": [
      "[[9. 9. 8.]\n",
      " [5. 7. 5.]\n",
      " [7. 6. 5.]\n",
      " [9. 7. 5.]\n",
      " [9. 6. 7.]]\n"
     ]
    }
   ],
   "source": [
    "from numpy import random\n",
    "x = np.random.randint(low=5,high=10,size=(5,3))\n",
    "y = x.astype('f')\n",
    "print(y)"
   ]
  },
  {
   "cell_type": "code",
   "execution_count": 181,
   "id": "cfaa3639",
   "metadata": {},
   "outputs": [
    {
     "name": "stdout",
     "output_type": "stream",
     "text": [
      "[[0.5905395  0.21031515 0.19477044]\n",
      " [0.51237184 0.77666646 0.8326248 ]\n",
      " [0.10073986 0.24545254 0.7324131 ]\n",
      " [0.98785216 0.3820154  0.04056815]\n",
      " [0.37918568 0.66757274 0.9021576 ]]\n"
     ]
    }
   ],
   "source": [
    "x = np.random.random((5,3))\n",
    "y = x.astype('f')\n",
    "print(y)"
   ]
  },
  {
   "cell_type": "code",
   "execution_count": 5,
   "id": "d380b2d3",
   "metadata": {},
   "outputs": [
    {
     "name": "stdout",
     "output_type": "stream",
     "text": [
      "[ 0  1  2  3  4  5  6  7  8  9 10 11 12 13 14]\n"
     ]
    }
   ],
   "source": [
    "import numpy as np\n",
    "x = np.arange(15)\n",
    "print(x)"
   ]
  }
 ],
 "metadata": {
  "kernelspec": {
   "display_name": "Python 3 (ipykernel)",
   "language": "python",
   "name": "python3"
  },
  "language_info": {
   "codemirror_mode": {
    "name": "ipython",
    "version": 3
   },
   "file_extension": ".py",
   "mimetype": "text/x-python",
   "name": "python",
   "nbconvert_exporter": "python",
   "pygments_lexer": "ipython3",
   "version": "3.9.7"
  }
 },
 "nbformat": 4,
 "nbformat_minor": 5
}
