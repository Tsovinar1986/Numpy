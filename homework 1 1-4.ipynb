{
 "cells": [
  {
   "cell_type": "code",
   "execution_count": 1,
   "id": "6cb78b49",
   "metadata": {},
   "outputs": [
    {
     "name": "stdout",
     "output_type": "stream",
     "text": [
      "2\n"
     ]
    }
   ],
   "source": [
    "#1\n",
    "import numpy as np \n",
    "import pandas as pd\n",
    "a = pd.Series([2,4,6,8])\n",
    "b = pd.Series([1,3,5,7])\n",
    "x = 0\n",
    "y = 0\n",
    "for i in range(len(a)-2):\n",
    "    for j in range(len(b)-2):\n",
    "        if (b[j+1] - b[j])==(b[j+2] - b[j+1]):\n",
    "            x = b[j+1]-b[j]\n",
    "    if (a[i+1]-a[i]) == (a[i+2]-a[i+1]):\n",
    "        y = a[i+1]-a[i]\n",
    "if x == y: \n",
    "    x,y ==y,x\n",
    "print(x)"
   ]
  },
  {
   "cell_type": "code",
   "execution_count": 91,
   "id": "77139e7f",
   "metadata": {},
   "outputs": [
    {
     "name": "stdout",
     "output_type": "stream",
     "text": [
      "0     0.768584\n",
      "1     0.818103\n",
      "2     0.674331\n",
      "3     0.574353\n",
      "4     0.761346\n",
      "5     0.620591\n",
      "6     0.711205\n",
      "7     0.577680\n",
      "8     0.506412\n",
      "9     0.574384\n",
      "10    0.641749\n",
      "11    0.538791\n",
      "12    0.538791\n",
      "13    0.687370\n",
      "14    0.735664\n",
      "15    0.587488\n",
      "16    0.464195\n",
      "17    0.634895\n",
      "19    0.664542\n",
      "20    0.569411\n",
      "21    0.707935\n",
      "23    0.618288\n",
      "24    0.552745\n",
      "25    0.680743\n",
      "26    0.537322\n",
      "27    0.536486\n",
      "29    0.581177\n",
      "30    0.745492\n",
      "31    0.544985\n",
      "dtype: float64\n"
     ]
    }
   ],
   "source": [
    "#3\n",
    "import pandas as pd\n",
    "import numpy as np\n",
    "df = pd.read_csv('Data1.csv')\n",
    "df.dropna(subset=['Date'], inplace = True)\n",
    "df.dropna(axis=0,inplace=True)\n",
    "df.to_numpy()\n",
    "a = np.std(df,axis = 1)\n",
    "b = np.mean(df,axis=1)\n",
    "s = a/b\n",
    "print(s)"
   ]
  },
  {
   "cell_type": "code",
   "execution_count": 93,
   "id": "2900ae7e",
   "metadata": {},
   "outputs": [
    {
     "data": {
      "text/plain": [
       "0     136.250787\n",
       "1     163.825174\n",
       "2     107.555799\n",
       "3      87.789905\n",
       "4     136.280960\n",
       "5      91.382096\n",
       "6     120.904921\n",
       "7     135.942513\n",
       "8      59.136299\n",
       "9      79.121347\n",
       "10    102.567499\n",
       "11     71.484032\n",
       "12     71.484032\n",
       "13    109.858964\n",
       "14    124.198397\n",
       "15     81.660884\n",
       "16     57.235216\n",
       "17     92.059763\n",
       "19    101.176517\n",
       "20     72.599931\n",
       "21    117.375551\n",
       "23     91.351998\n",
       "24     72.962319\n",
       "25    105.940653\n",
       "26     71.195154\n",
       "27     68.536031\n",
       "29     83.108363\n",
       "30    125.112117\n",
       "31     69.485610\n",
       "dtype: float64"
      ]
     },
     "execution_count": 93,
     "metadata": {},
     "output_type": "execute_result"
    }
   ],
   "source": [
    "#2\n",
    "import pandas as pd\n",
    "import numpy as np\n",
    "df = pd.read_csv('Data1.csv')\n",
    "df.dropna(inplace=True)\n",
    "df.to_numpy()\n",
    "np.std(df,axis=1)"
   ]
  },
  {
   "cell_type": "code",
   "execution_count": 26,
   "id": "f5639c83",
   "metadata": {},
   "outputs": [
    {
     "ename": "TypeError",
     "evalue": "data type 's' not understood",
     "output_type": "error",
     "traceback": [
      "\u001b[0;31m---------------------------------------------------------------------------\u001b[0m",
      "\u001b[0;31mTypeError\u001b[0m                                 Traceback (most recent call last)",
      "Input \u001b[0;32mIn [26]\u001b[0m, in \u001b[0;36m<cell line: 10>\u001b[0;34m()\u001b[0m\n\u001b[1;32m      8\u001b[0m arr1 \u001b[38;5;241m=\u001b[39m arr\u001b[38;5;241m.\u001b[39mastype(\u001b[38;5;124m'\u001b[39m\u001b[38;5;124mU10\u001b[39m\u001b[38;5;124m'\u001b[39m)\n\u001b[1;32m      9\u001b[0m arr1\n\u001b[0;32m---> 10\u001b[0m arr1[\u001b[38;5;241m1\u001b[39m] \u001b[38;5;241m=\u001b[39m \u001b[43marr\u001b[49m\u001b[38;5;241;43m.\u001b[39;49m\u001b[43mastype\u001b[49m\u001b[43m(\u001b[49m\u001b[38;5;124;43m'\u001b[39;49m\u001b[38;5;124;43ms\u001b[39;49m\u001b[38;5;124;43m'\u001b[39;49m\u001b[43m)\u001b[49m\n",
      "\u001b[0;31mTypeError\u001b[0m: data type 's' not understood"
     ]
    }
   ],
   "source": [
    "#4\n",
    "import numpy as np\n",
    "arr = np.arange(25).reshape(5,5)\n",
    "# arr1 = arr.astype('U10')\n",
    "# arr1[0:,:] = 'a'\n",
    "# arr1[1]=arr.astype('i')\n",
    "# print(arr1)\n",
    "arr1 = arr.astype('U10')\n",
    "arr1\n",
    "arr1[1] = arr.astype()"
   ]
  },
  {
   "cell_type": "raw",
   "id": "e412a1b7",
   "metadata": {},
   "source": []
  },
  {
   "cell_type": "code",
   "execution_count": null,
   "id": "8f5137d3",
   "metadata": {},
   "outputs": [],
   "source": []
  },
  {
   "cell_type": "code",
   "execution_count": null,
   "id": "58b653f5",
   "metadata": {},
   "outputs": [],
   "source": []
  }
 ],
 "metadata": {
  "kernelspec": {
   "display_name": "Python 3 (ipykernel)",
   "language": "python",
   "name": "python3"
  },
  "language_info": {
   "codemirror_mode": {
    "name": "ipython",
    "version": 3
   },
   "file_extension": ".py",
   "mimetype": "text/x-python",
   "name": "python",
   "nbconvert_exporter": "python",
   "pygments_lexer": "ipython3",
   "version": "3.9.12"
  }
 },
 "nbformat": 4,
 "nbformat_minor": 5
}
